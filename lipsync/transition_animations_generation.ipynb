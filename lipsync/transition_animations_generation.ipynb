{
 "cells": [
  {
   "cell_type": "code",
   "execution_count": 1,
   "metadata": {},
   "outputs": [],
   "source": [
    "%config Completer.use_jedi=False"
   ]
  },
  {
   "cell_type": "code",
   "execution_count": 2,
   "metadata": {},
   "outputs": [],
   "source": [
    "import json\n",
    "from copy import deepcopy"
   ]
  },
  {
   "cell_type": "code",
   "execution_count": 3,
   "metadata": {},
   "outputs": [],
   "source": [
    "with open('A.json', 'r') as f:\n",
    "    A = json.load(f)\n",
    "with open('E.json', 'r') as f:\n",
    "    E = json.load(f)\n",
    "with open('I.json', 'r') as f:\n",
    "    I = json.load(f)\n",
    "with open('O.json', 'r') as f:\n",
    "    O = json.load(f)"
   ]
  },
  {
   "cell_type": "code",
   "execution_count": 4,
   "metadata": {},
   "outputs": [],
   "source": [
    "def get_vals_at_idx(json_obj, idx):\n",
    "    tracks = json_obj[0]['tracks']\n",
    "    vals = {}\n",
    "    for elem in tracks:\n",
    "        name = elem['name']\n",
    "        value = elem['values'][idx]\n",
    "        vals[name] = value\n",
    "    return vals"
   ]
  },
  {
   "cell_type": "code",
   "execution_count": 5,
   "metadata": {},
   "outputs": [],
   "source": [
    "def get_init_vals(json_obj):\n",
    "    return get_vals_at_idx(json_obj, 0)"
   ]
  },
  {
   "cell_type": "code",
   "execution_count": 6,
   "metadata": {},
   "outputs": [],
   "source": [
    "all_sounds = [A, E, I, O]\n",
    "sound_names = ['A', 'E', 'I', 'O']"
   ]
  },
  {
   "cell_type": "code",
   "execution_count": 7,
   "metadata": {},
   "outputs": [],
   "source": [
    "def areDictsEqual(dict1, dict2, eps=1e-6):\n",
    "    equal = True\n",
    "    for key1, val1 in dict1.items():\n",
    "        val2 = 0 if not key1 in dict2 else dict2[key1]\n",
    "        if not (val1 - val2 < eps):\n",
    "            print(key1, val1, val2)\n",
    "            equal = False\n",
    "    return equal"
   ]
  },
  {
   "cell_type": "code",
   "execution_count": 8,
   "metadata": {},
   "outputs": [
    {
     "name": "stdout",
     "output_type": "stream",
     "text": [
      "A and E are equal: True\n",
      "E and I are equal: True\n",
      "LowerTeeth_M.position 0.029289955273270607 0\n",
      "UpperTeeth_M.position 0.04549021273851395 0\n",
      "I and O are equal: False\n"
     ]
    }
   ],
   "source": [
    "for idx in range(len(all_sounds)-1):\n",
    "    are_equal = areDictsEqual( get_init_vals(all_sounds[idx]), get_init_vals(all_sounds[idx+1]) )\n",
    "    print(f'{sound_names[idx]} and {sound_names[idx+1]} are equal: {are_equal}')"
   ]
  },
  {
   "cell_type": "markdown",
   "metadata": {},
   "source": [
    "We will be assuming that all the animations start from 0s for all values .. and the first index is actually the second frame for all animations\n",
    "This should reduce the complexity for us"
   ]
  },
  {
   "cell_type": "code",
   "execution_count": 9,
   "metadata": {},
   "outputs": [],
   "source": [
    "def process_track_to_dict(json_obj):\n",
    "    tracks_list = json_obj[0]['tracks']\n",
    "    tracks_dict = {}\n",
    "    for elem in tracks_list:\n",
    "        name = elem['name']\n",
    "        times = elem['times']\n",
    "        values = elem['values']\n",
    "        tracks_dict[name] = {'times': times, 'values': values}\n",
    "    json_obj[0]['tracks_dict'] = tracks_dict"
   ]
  },
  {
   "cell_type": "code",
   "execution_count": 10,
   "metadata": {},
   "outputs": [],
   "source": [
    "def are_lists_equal(lst1, lst2):\n",
    "    if len(lst1) != len(lst2): return False\n",
    "    for elem1, elem2 in zip(lst1, lst2):\n",
    "        if elem1 != elem2:\n",
    "            return False\n",
    "    return True"
   ]
  },
  {
   "cell_type": "code",
   "execution_count": 11,
   "metadata": {},
   "outputs": [],
   "source": [
    "def _add_missing_categories(json1, json2):\n",
    "    for name in json1[0]['tracks_dict']:\n",
    "        if name not in json2[0]['tracks_dict']:\n",
    "            json2[0]['tracks_dict'][name] = deepcopy( json1[0]['tracks_dict'][name] )\n",
    "            for idx in range(len( json2[0]['tracks_dict'][name]['values'] )):\n",
    "                json2[0]['tracks_dict'][name]['values'][idx] = 0"
   ]
  },
  {
   "cell_type": "code",
   "execution_count": 12,
   "metadata": {},
   "outputs": [],
   "source": [
    "def add_missing_categories(json1, json2):\n",
    "    _add_missing_categories(json1, json2)\n",
    "    _add_missing_categories(json2, json1)"
   ]
  },
  {
   "cell_type": "code",
   "execution_count": 13,
   "metadata": {},
   "outputs": [],
   "source": [
    "def assert_equal_times(json1, json2):\n",
    "    for name in json1[0]['tracks_dict']:\n",
    "        if name in json2[0]['tracks_dict']:\n",
    "            assert are_lists_equal(json1[0]['tracks_dict'][name]['times'], json2[0]['tracks_dict'][name]['times'])"
   ]
  },
  {
   "cell_type": "code",
   "execution_count": 14,
   "metadata": {},
   "outputs": [],
   "source": [
    "def preprocess_all_sounds(list_json_obj):\n",
    "    [process_track_to_dict(json_obj) for json_obj in list_json_obj]\n",
    "    for json1 in list_json_obj:\n",
    "        for json2 in list_json_obj:\n",
    "            add_missing_categories(json1, json2)\n",
    "            assert_equal_times(json1, json2)"
   ]
  },
  {
   "cell_type": "code",
   "execution_count": 15,
   "metadata": {},
   "outputs": [],
   "source": [
    "preprocess_all_sounds(list_json_obj=all_sounds)"
   ]
  },
  {
   "cell_type": "code",
   "execution_count": 16,
   "metadata": {},
   "outputs": [],
   "source": [
    "def get_transition_from_json1_to_json2(json1, json2, transition_name: str):\n",
    "    transition = {}\n",
    "    transition['name'] = transition_name\n",
    "    \n",
    "    json1 = json1[0]\n",
    "    json2 = json2[0]\n",
    "    \n",
    "    assert json1['duration'] == json2['duration']\n",
    "    transition['duration'] = json1['duration']\n",
    "    \n",
    "    transition['tracks_dict'] = {}\n",
    "    for name in json2['tracks_dict']:\n",
    "        if not name in json1['tracks_dict']:\n",
    "            assert False, name + ' in ' + transition_name\n",
    "        \n",
    "        elem1 = json1['tracks_dict'][name]\n",
    "        elem2 = json2['tracks_dict'][name]\n",
    "        \n",
    "        transition['tracks_dict'][name] = {}\n",
    "        \n",
    "        assert are_lists_equal(elem1['times'], elem2['times'])\n",
    "        transition['tracks_dict'][name]['times'] = elem1['times']\n",
    "        \n",
    "        vals1 = elem1['values']\n",
    "        vals2 = elem2['values']\n",
    "        \n",
    "        vals1_reversed = reversed(vals1)\n",
    "        transition_vals = [elem1 + elem2 for elem1, elem2 in zip(vals1_reversed, vals2)]\n",
    "        transition['tracks_dict'][name]['values'] = transition_vals\n",
    "    return [transition]"
   ]
  },
  {
   "cell_type": "code",
   "execution_count": 17,
   "metadata": {},
   "outputs": [],
   "source": [
    "for name1, json1 in zip(sound_names, all_sounds):\n",
    "    for name2, json2 in zip(sound_names, all_sounds):\n",
    "        if name1 == name2:\n",
    "            continue\n",
    "        filename = name1 + '_to_' + name2\n",
    "        transition_1_to_2 = get_transition_from_json1_to_json2(json1, json2, name1 + '_to_' + name2)\n",
    "        with open(filename + '.json', 'w') as f:\n",
    "            json.dump(transition_1_to_2, f)"
   ]
  },
  {
   "cell_type": "code",
   "execution_count": null,
   "metadata": {},
   "outputs": [],
   "source": []
  }
 ],
 "metadata": {
  "kernelspec": {
   "display_name": "Python 3",
   "language": "python",
   "name": "python3"
  },
  "language_info": {
   "codemirror_mode": {
    "name": "ipython",
    "version": 3
   },
   "file_extension": ".py",
   "mimetype": "text/x-python",
   "name": "python",
   "nbconvert_exporter": "python",
   "pygments_lexer": "ipython3",
   "version": "3.8.8"
  }
 },
 "nbformat": 4,
 "nbformat_minor": 4
}
